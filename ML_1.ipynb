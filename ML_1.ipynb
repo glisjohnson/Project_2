{
 "cells": [
  {
   "cell_type": "code",
   "execution_count": 35,
   "metadata": {},
   "outputs": [],
   "source": [
    "\n",
    "from pathlib import Path\n",
    "import hvplot.pandas\n",
    "import matplotlib\n",
    "import pandas as pd\n",
    "import numpy as np\n"
   ]
  },
  {
   "cell_type": "code",
   "execution_count": 13,
   "metadata": {},
   "outputs": [],
   "source": [
    "from sklearn.model_selection import train_test_split\n",
    "from sklearn.metrics import confusion_matrix, accuracy_score, classification_report\n",
    "from sklearn.decomposition import PCA"
   ]
  },
  {
   "cell_type": "code",
   "execution_count": 36,
   "metadata": {},
   "outputs": [],
   "source": [
    "from sklearn.linear_model import Ridge\n",
    "from sklearn.metrics import r2_score\n",
    "from sklearn.metrics import mean_squared_error"
   ]
  },
  {
   "cell_type": "code",
   "execution_count": 5,
   "metadata": {},
   "outputs": [
    {
     "data": {
      "text/html": [
       "<div>\n",
       "<style scoped>\n",
       "    .dataframe tbody tr th:only-of-type {\n",
       "        vertical-align: middle;\n",
       "    }\n",
       "\n",
       "    .dataframe tbody tr th {\n",
       "        vertical-align: top;\n",
       "    }\n",
       "\n",
       "    .dataframe thead th {\n",
       "        text-align: right;\n",
       "    }\n",
       "</style>\n",
       "<table border=\"1\" class=\"dataframe\">\n",
       "  <thead>\n",
       "    <tr style=\"text-align: right;\">\n",
       "      <th></th>\n",
       "      <th>Jets</th>\n",
       "      <th>Oil</th>\n",
       "      <th>USD</th>\n",
       "      <th>Cheap</th>\n",
       "      <th>Flights</th>\n",
       "      <th>Best airlines</th>\n",
       "      <th>Travel</th>\n",
       "      <th>luggage</th>\n",
       "      <th>luggage weight</th>\n",
       "      <th>suitcase</th>\n",
       "      <th>carry on</th>\n",
       "      <th>precheck</th>\n",
       "      <th>RV</th>\n",
       "      <th>train</th>\n",
       "      <th>bus</th>\n",
       "      <th>car</th>\n",
       "      <th>road</th>\n",
       "    </tr>\n",
       "    <tr>\n",
       "      <th>Date</th>\n",
       "      <th></th>\n",
       "      <th></th>\n",
       "      <th></th>\n",
       "      <th></th>\n",
       "      <th></th>\n",
       "      <th></th>\n",
       "      <th></th>\n",
       "      <th></th>\n",
       "      <th></th>\n",
       "      <th></th>\n",
       "      <th></th>\n",
       "      <th></th>\n",
       "      <th></th>\n",
       "      <th></th>\n",
       "      <th></th>\n",
       "      <th></th>\n",
       "      <th></th>\n",
       "    </tr>\n",
       "  </thead>\n",
       "  <tbody>\n",
       "    <tr>\n",
       "      <th>2018-01-19</th>\n",
       "      <td>1.598610</td>\n",
       "      <td>-0.071557</td>\n",
       "      <td>-1.206932</td>\n",
       "      <td>1.254672</td>\n",
       "      <td>0.403785</td>\n",
       "      <td>0.0</td>\n",
       "      <td>-0.832702</td>\n",
       "      <td>0.767616</td>\n",
       "      <td>0.507135</td>\n",
       "      <td>-0.356336</td>\n",
       "      <td>0.082073</td>\n",
       "      <td>-0.048722</td>\n",
       "      <td>0.390248</td>\n",
       "      <td>0.940826</td>\n",
       "      <td>0.619174</td>\n",
       "      <td>0.309830</td>\n",
       "      <td>0.453984</td>\n",
       "    </tr>\n",
       "    <tr>\n",
       "      <th>2018-01-22</th>\n",
       "      <td>1.608980</td>\n",
       "      <td>-0.065567</td>\n",
       "      <td>-1.240061</td>\n",
       "      <td>1.254672</td>\n",
       "      <td>0.117702</td>\n",
       "      <td>0.0</td>\n",
       "      <td>-0.832702</td>\n",
       "      <td>0.686970</td>\n",
       "      <td>0.507135</td>\n",
       "      <td>-0.356336</td>\n",
       "      <td>-0.027707</td>\n",
       "      <td>-0.048722</td>\n",
       "      <td>0.390248</td>\n",
       "      <td>1.023929</td>\n",
       "      <td>0.736924</td>\n",
       "      <td>-0.395912</td>\n",
       "      <td>0.453984</td>\n",
       "    </tr>\n",
       "    <tr>\n",
       "      <th>2018-01-23</th>\n",
       "      <td>1.643540</td>\n",
       "      <td>-0.016654</td>\n",
       "      <td>-1.294625</td>\n",
       "      <td>1.254672</td>\n",
       "      <td>0.117702</td>\n",
       "      <td>0.0</td>\n",
       "      <td>-0.832702</td>\n",
       "      <td>0.686970</td>\n",
       "      <td>0.507135</td>\n",
       "      <td>-0.356336</td>\n",
       "      <td>-0.027707</td>\n",
       "      <td>-0.048722</td>\n",
       "      <td>0.390248</td>\n",
       "      <td>1.023929</td>\n",
       "      <td>0.736924</td>\n",
       "      <td>-0.395912</td>\n",
       "      <td>0.453984</td>\n",
       "    </tr>\n",
       "    <tr>\n",
       "      <th>2018-01-24</th>\n",
       "      <td>1.394699</td>\n",
       "      <td>0.040246</td>\n",
       "      <td>-1.471961</td>\n",
       "      <td>1.254672</td>\n",
       "      <td>0.117702</td>\n",
       "      <td>0.0</td>\n",
       "      <td>-0.832702</td>\n",
       "      <td>0.686970</td>\n",
       "      <td>0.507135</td>\n",
       "      <td>-0.356336</td>\n",
       "      <td>-0.027707</td>\n",
       "      <td>-0.048722</td>\n",
       "      <td>0.390248</td>\n",
       "      <td>1.023929</td>\n",
       "      <td>0.736924</td>\n",
       "      <td>-0.395912</td>\n",
       "      <td>0.453984</td>\n",
       "    </tr>\n",
       "    <tr>\n",
       "      <th>2018-01-25</th>\n",
       "      <td>1.263365</td>\n",
       "      <td>0.035255</td>\n",
       "      <td>-1.436884</td>\n",
       "      <td>1.254672</td>\n",
       "      <td>0.117702</td>\n",
       "      <td>0.0</td>\n",
       "      <td>-0.832702</td>\n",
       "      <td>0.686970</td>\n",
       "      <td>0.507135</td>\n",
       "      <td>-0.356336</td>\n",
       "      <td>-0.027707</td>\n",
       "      <td>-0.048722</td>\n",
       "      <td>0.390248</td>\n",
       "      <td>1.023929</td>\n",
       "      <td>0.736924</td>\n",
       "      <td>-0.395912</td>\n",
       "      <td>0.453984</td>\n",
       "    </tr>\n",
       "  </tbody>\n",
       "</table>\n",
       "</div>"
      ],
      "text/plain": [
       "                Jets       Oil       USD    Cheap    Flights  Best airlines  \\\n",
       "Date                                                                          \n",
       "2018-01-19  1.598610 -0.071557 -1.206932  1.254672  0.403785            0.0   \n",
       "2018-01-22  1.608980 -0.065567 -1.240061  1.254672  0.117702            0.0   \n",
       "2018-01-23  1.643540 -0.016654 -1.294625  1.254672  0.117702            0.0   \n",
       "2018-01-24  1.394699  0.040246 -1.471961  1.254672  0.117702            0.0   \n",
       "2018-01-25  1.263365  0.035255 -1.436884  1.254672  0.117702            0.0   \n",
       "\n",
       "              Travel   luggage  luggage weight  suitcase  carry on  precheck  \\\n",
       "Date                                                                           \n",
       "2018-01-19 -0.832702  0.767616        0.507135 -0.356336  0.082073 -0.048722   \n",
       "2018-01-22 -0.832702  0.686970        0.507135 -0.356336 -0.027707 -0.048722   \n",
       "2018-01-23 -0.832702  0.686970        0.507135 -0.356336 -0.027707 -0.048722   \n",
       "2018-01-24 -0.832702  0.686970        0.507135 -0.356336 -0.027707 -0.048722   \n",
       "2018-01-25 -0.832702  0.686970        0.507135 -0.356336 -0.027707 -0.048722   \n",
       "\n",
       "                  RV     train       bus       car      road  \n",
       "Date                                                          \n",
       "2018-01-19  0.390248  0.940826  0.619174  0.309830  0.453984  \n",
       "2018-01-22  0.390248  1.023929  0.736924 -0.395912  0.453984  \n",
       "2018-01-23  0.390248  1.023929  0.736924 -0.395912  0.453984  \n",
       "2018-01-24  0.390248  1.023929  0.736924 -0.395912  0.453984  \n",
       "2018-01-25  0.390248  1.023929  0.736924 -0.395912  0.453984  "
      ]
     },
     "execution_count": 5,
     "metadata": {},
     "output_type": "execute_result"
    }
   ],
   "source": [
    "dataframe = pd.read_csv(Path(\"./combined_data.csv\"), index_col= \"Date\", parse_dates= True)\n",
    "dataframe.head()"
   ]
  },
  {
   "cell_type": "code",
   "execution_count": 6,
   "metadata": {},
   "outputs": [
    {
     "data": {
      "text/html": [
       "<div>\n",
       "<style scoped>\n",
       "    .dataframe tbody tr th:only-of-type {\n",
       "        vertical-align: middle;\n",
       "    }\n",
       "\n",
       "    .dataframe tbody tr th {\n",
       "        vertical-align: top;\n",
       "    }\n",
       "\n",
       "    .dataframe thead th {\n",
       "        text-align: right;\n",
       "    }\n",
       "</style>\n",
       "<table border=\"1\" class=\"dataframe\">\n",
       "  <thead>\n",
       "    <tr style=\"text-align: right;\">\n",
       "      <th></th>\n",
       "      <th>Oil</th>\n",
       "      <th>USD</th>\n",
       "      <th>Cheap</th>\n",
       "      <th>Flights</th>\n",
       "      <th>Best airlines</th>\n",
       "      <th>Travel</th>\n",
       "      <th>luggage</th>\n",
       "      <th>luggage weight</th>\n",
       "      <th>suitcase</th>\n",
       "      <th>carry on</th>\n",
       "      <th>precheck</th>\n",
       "      <th>RV</th>\n",
       "      <th>train</th>\n",
       "      <th>bus</th>\n",
       "      <th>car</th>\n",
       "      <th>road</th>\n",
       "    </tr>\n",
       "    <tr>\n",
       "      <th>Date</th>\n",
       "      <th></th>\n",
       "      <th></th>\n",
       "      <th></th>\n",
       "      <th></th>\n",
       "      <th></th>\n",
       "      <th></th>\n",
       "      <th></th>\n",
       "      <th></th>\n",
       "      <th></th>\n",
       "      <th></th>\n",
       "      <th></th>\n",
       "      <th></th>\n",
       "      <th></th>\n",
       "      <th></th>\n",
       "      <th></th>\n",
       "      <th></th>\n",
       "    </tr>\n",
       "  </thead>\n",
       "  <tbody>\n",
       "    <tr>\n",
       "      <th>2018-01-19</th>\n",
       "      <td>-0.071557</td>\n",
       "      <td>-1.206932</td>\n",
       "      <td>1.254672</td>\n",
       "      <td>0.403785</td>\n",
       "      <td>0.0</td>\n",
       "      <td>-0.832702</td>\n",
       "      <td>0.767616</td>\n",
       "      <td>0.507135</td>\n",
       "      <td>-0.356336</td>\n",
       "      <td>0.082073</td>\n",
       "      <td>-0.048722</td>\n",
       "      <td>0.390248</td>\n",
       "      <td>0.940826</td>\n",
       "      <td>0.619174</td>\n",
       "      <td>0.309830</td>\n",
       "      <td>0.453984</td>\n",
       "    </tr>\n",
       "    <tr>\n",
       "      <th>2018-01-22</th>\n",
       "      <td>-0.065567</td>\n",
       "      <td>-1.240061</td>\n",
       "      <td>1.254672</td>\n",
       "      <td>0.117702</td>\n",
       "      <td>0.0</td>\n",
       "      <td>-0.832702</td>\n",
       "      <td>0.686970</td>\n",
       "      <td>0.507135</td>\n",
       "      <td>-0.356336</td>\n",
       "      <td>-0.027707</td>\n",
       "      <td>-0.048722</td>\n",
       "      <td>0.390248</td>\n",
       "      <td>1.023929</td>\n",
       "      <td>0.736924</td>\n",
       "      <td>-0.395912</td>\n",
       "      <td>0.453984</td>\n",
       "    </tr>\n",
       "    <tr>\n",
       "      <th>2018-01-23</th>\n",
       "      <td>-0.016654</td>\n",
       "      <td>-1.294625</td>\n",
       "      <td>1.254672</td>\n",
       "      <td>0.117702</td>\n",
       "      <td>0.0</td>\n",
       "      <td>-0.832702</td>\n",
       "      <td>0.686970</td>\n",
       "      <td>0.507135</td>\n",
       "      <td>-0.356336</td>\n",
       "      <td>-0.027707</td>\n",
       "      <td>-0.048722</td>\n",
       "      <td>0.390248</td>\n",
       "      <td>1.023929</td>\n",
       "      <td>0.736924</td>\n",
       "      <td>-0.395912</td>\n",
       "      <td>0.453984</td>\n",
       "    </tr>\n",
       "    <tr>\n",
       "      <th>2018-01-24</th>\n",
       "      <td>0.040246</td>\n",
       "      <td>-1.471961</td>\n",
       "      <td>1.254672</td>\n",
       "      <td>0.117702</td>\n",
       "      <td>0.0</td>\n",
       "      <td>-0.832702</td>\n",
       "      <td>0.686970</td>\n",
       "      <td>0.507135</td>\n",
       "      <td>-0.356336</td>\n",
       "      <td>-0.027707</td>\n",
       "      <td>-0.048722</td>\n",
       "      <td>0.390248</td>\n",
       "      <td>1.023929</td>\n",
       "      <td>0.736924</td>\n",
       "      <td>-0.395912</td>\n",
       "      <td>0.453984</td>\n",
       "    </tr>\n",
       "    <tr>\n",
       "      <th>2018-01-25</th>\n",
       "      <td>0.035255</td>\n",
       "      <td>-1.436884</td>\n",
       "      <td>1.254672</td>\n",
       "      <td>0.117702</td>\n",
       "      <td>0.0</td>\n",
       "      <td>-0.832702</td>\n",
       "      <td>0.686970</td>\n",
       "      <td>0.507135</td>\n",
       "      <td>-0.356336</td>\n",
       "      <td>-0.027707</td>\n",
       "      <td>-0.048722</td>\n",
       "      <td>0.390248</td>\n",
       "      <td>1.023929</td>\n",
       "      <td>0.736924</td>\n",
       "      <td>-0.395912</td>\n",
       "      <td>0.453984</td>\n",
       "    </tr>\n",
       "  </tbody>\n",
       "</table>\n",
       "</div>"
      ],
      "text/plain": [
       "                 Oil       USD    Cheap    Flights  Best airlines    Travel  \\\n",
       "Date                                                                          \n",
       "2018-01-19 -0.071557 -1.206932  1.254672  0.403785            0.0 -0.832702   \n",
       "2018-01-22 -0.065567 -1.240061  1.254672  0.117702            0.0 -0.832702   \n",
       "2018-01-23 -0.016654 -1.294625  1.254672  0.117702            0.0 -0.832702   \n",
       "2018-01-24  0.040246 -1.471961  1.254672  0.117702            0.0 -0.832702   \n",
       "2018-01-25  0.035255 -1.436884  1.254672  0.117702            0.0 -0.832702   \n",
       "\n",
       "             luggage  luggage weight  suitcase  carry on  precheck        RV  \\\n",
       "Date                                                                           \n",
       "2018-01-19  0.767616        0.507135 -0.356336  0.082073 -0.048722  0.390248   \n",
       "2018-01-22  0.686970        0.507135 -0.356336 -0.027707 -0.048722  0.390248   \n",
       "2018-01-23  0.686970        0.507135 -0.356336 -0.027707 -0.048722  0.390248   \n",
       "2018-01-24  0.686970        0.507135 -0.356336 -0.027707 -0.048722  0.390248   \n",
       "2018-01-25  0.686970        0.507135 -0.356336 -0.027707 -0.048722  0.390248   \n",
       "\n",
       "               train       bus       car      road  \n",
       "Date                                                \n",
       "2018-01-19  0.940826  0.619174  0.309830  0.453984  \n",
       "2018-01-22  1.023929  0.736924 -0.395912  0.453984  \n",
       "2018-01-23  1.023929  0.736924 -0.395912  0.453984  \n",
       "2018-01-24  1.023929  0.736924 -0.395912  0.453984  \n",
       "2018-01-25  1.023929  0.736924 -0.395912  0.453984  "
      ]
     },
     "execution_count": 6,
     "metadata": {},
     "output_type": "execute_result"
    }
   ],
   "source": [
    "X = dataframe.copy()\n",
    "X.drop(\"Jets\", axis=1, inplace=True)\n",
    "X.head()\n"
   ]
  },
  {
   "cell_type": "code",
   "execution_count": 10,
   "metadata": {},
   "outputs": [
    {
     "data": {
      "text/html": [
       "<div>\n",
       "<style scoped>\n",
       "    .dataframe tbody tr th:only-of-type {\n",
       "        vertical-align: middle;\n",
       "    }\n",
       "\n",
       "    .dataframe tbody tr th {\n",
       "        vertical-align: top;\n",
       "    }\n",
       "\n",
       "    .dataframe thead th {\n",
       "        text-align: right;\n",
       "    }\n",
       "</style>\n",
       "<table border=\"1\" class=\"dataframe\">\n",
       "  <thead>\n",
       "    <tr style=\"text-align: right;\">\n",
       "      <th></th>\n",
       "      <th>Jets</th>\n",
       "    </tr>\n",
       "    <tr>\n",
       "      <th>Date</th>\n",
       "      <th></th>\n",
       "    </tr>\n",
       "  </thead>\n",
       "  <tbody>\n",
       "    <tr>\n",
       "      <th>2018-01-19</th>\n",
       "      <td>1.598610</td>\n",
       "    </tr>\n",
       "    <tr>\n",
       "      <th>2018-01-22</th>\n",
       "      <td>1.608980</td>\n",
       "    </tr>\n",
       "    <tr>\n",
       "      <th>2018-01-23</th>\n",
       "      <td>1.643540</td>\n",
       "    </tr>\n",
       "    <tr>\n",
       "      <th>2018-01-24</th>\n",
       "      <td>1.394699</td>\n",
       "    </tr>\n",
       "    <tr>\n",
       "      <th>2018-01-25</th>\n",
       "      <td>1.263365</td>\n",
       "    </tr>\n",
       "  </tbody>\n",
       "</table>\n",
       "</div>"
      ],
      "text/plain": [
       "                Jets\n",
       "Date                \n",
       "2018-01-19  1.598610\n",
       "2018-01-22  1.608980\n",
       "2018-01-23  1.643540\n",
       "2018-01-24  1.394699\n",
       "2018-01-25  1.263365"
      ]
     },
     "execution_count": 10,
     "metadata": {},
     "output_type": "execute_result"
    }
   ],
   "source": [
    "y = dataframe.loc[:,['Jets']]\n",
    "y.head()"
   ]
  },
  {
   "cell_type": "code",
   "execution_count": 11,
   "metadata": {},
   "outputs": [],
   "source": [
    "X_train, X_test, y_train, y_test = train_test_split(X, y, random_state=1)"
   ]
  },
  {
   "cell_type": "code",
   "execution_count": 20,
   "metadata": {},
   "outputs": [],
   "source": [
    "pca=PCA(n_components=4)"
   ]
  },
  {
   "cell_type": "code",
   "execution_count": 21,
   "metadata": {},
   "outputs": [
    {
     "data": {
      "text/plain": [
       "array([[ 1.48452428, -0.04079163, -1.79798581,  0.68907888],\n",
       "       [ 1.73357002,  0.12928186, -2.16823065,  1.01739443],\n",
       "       [-1.41471803,  2.5525187 , -1.09167959, -0.16452368],\n",
       "       [ 1.62242244, -0.02565089, -1.29025354,  0.37726963],\n",
       "       [-1.9926822 , -1.08920671,  0.4072132 , -0.75803526]])"
      ]
     },
     "execution_count": 21,
     "metadata": {},
     "output_type": "execute_result"
    }
   ],
   "source": [
    "# Fit the PCA model on the transformed credit card DataFrame\n",
    "X_train_data_pca = pca.fit_transform(X_train)\n",
    "\n",
    "# Review the first 5 rows of the array of list data\n",
    "X_train_data_pca[:5]"
   ]
  },
  {
   "cell_type": "code",
   "execution_count": 22,
   "metadata": {},
   "outputs": [
    {
     "data": {
      "text/plain": [
       "0.9004807737086"
      ]
     },
     "execution_count": 22,
     "metadata": {},
     "output_type": "execute_result"
    }
   ],
   "source": [
    "pca.explained_variance_ratio_\n",
    "sum(pca.explained_variance_ratio_)"
   ]
  },
  {
   "cell_type": "code",
   "execution_count": 23,
   "metadata": {},
   "outputs": [
    {
     "data": {
      "text/html": [
       "<div>\n",
       "<style scoped>\n",
       "    .dataframe tbody tr th:only-of-type {\n",
       "        vertical-align: middle;\n",
       "    }\n",
       "\n",
       "    .dataframe tbody tr th {\n",
       "        vertical-align: top;\n",
       "    }\n",
       "\n",
       "    .dataframe thead th {\n",
       "        text-align: right;\n",
       "    }\n",
       "</style>\n",
       "<table border=\"1\" class=\"dataframe\">\n",
       "  <thead>\n",
       "    <tr style=\"text-align: right;\">\n",
       "      <th></th>\n",
       "      <th>PCA1</th>\n",
       "      <th>PCA2</th>\n",
       "      <th>PCA3</th>\n",
       "      <th>PCA4</th>\n",
       "    </tr>\n",
       "  </thead>\n",
       "  <tbody>\n",
       "    <tr>\n",
       "      <th>0</th>\n",
       "      <td>1.484524</td>\n",
       "      <td>-0.040792</td>\n",
       "      <td>-1.797986</td>\n",
       "      <td>0.689079</td>\n",
       "    </tr>\n",
       "    <tr>\n",
       "      <th>1</th>\n",
       "      <td>1.733570</td>\n",
       "      <td>0.129282</td>\n",
       "      <td>-2.168231</td>\n",
       "      <td>1.017394</td>\n",
       "    </tr>\n",
       "    <tr>\n",
       "      <th>2</th>\n",
       "      <td>-1.414718</td>\n",
       "      <td>2.552519</td>\n",
       "      <td>-1.091680</td>\n",
       "      <td>-0.164524</td>\n",
       "    </tr>\n",
       "    <tr>\n",
       "      <th>3</th>\n",
       "      <td>1.622422</td>\n",
       "      <td>-0.025651</td>\n",
       "      <td>-1.290254</td>\n",
       "      <td>0.377270</td>\n",
       "    </tr>\n",
       "    <tr>\n",
       "      <th>4</th>\n",
       "      <td>-1.992682</td>\n",
       "      <td>-1.089207</td>\n",
       "      <td>0.407213</td>\n",
       "      <td>-0.758035</td>\n",
       "    </tr>\n",
       "  </tbody>\n",
       "</table>\n",
       "</div>"
      ],
      "text/plain": [
       "       PCA1      PCA2      PCA3      PCA4\n",
       "0  1.484524 -0.040792 -1.797986  0.689079\n",
       "1  1.733570  0.129282 -2.168231  1.017394\n",
       "2 -1.414718  2.552519 -1.091680 -0.164524\n",
       "3  1.622422 -0.025651 -1.290254  0.377270\n",
       "4 -1.992682 -1.089207  0.407213 -0.758035"
      ]
     },
     "execution_count": 23,
     "metadata": {},
     "output_type": "execute_result"
    }
   ],
   "source": [
    "# Create the PCA DataFrame\n",
    "X_train_data_pca_df = pd.DataFrame(\n",
    "    X_train_data_pca,\n",
    "    columns=[\"PCA1\", \"PCA2\", \"PCA3\", \"PCA4\"]\n",
    ")\n",
    "\n",
    "# Review the PCA DataFrame\n",
    "X_train_data_pca_df.head()"
   ]
  },
  {
   "cell_type": "code",
   "execution_count": 29,
   "metadata": {},
   "outputs": [],
   "source": [
    "X_test_data_df = pca.transform(X_test)"
   ]
  },
  {
   "cell_type": "code",
   "execution_count": 30,
   "metadata": {},
   "outputs": [
    {
     "data": {
      "text/html": [
       "<div>\n",
       "<style scoped>\n",
       "    .dataframe tbody tr th:only-of-type {\n",
       "        vertical-align: middle;\n",
       "    }\n",
       "\n",
       "    .dataframe tbody tr th {\n",
       "        vertical-align: top;\n",
       "    }\n",
       "\n",
       "    .dataframe thead th {\n",
       "        text-align: right;\n",
       "    }\n",
       "</style>\n",
       "<table border=\"1\" class=\"dataframe\">\n",
       "  <thead>\n",
       "    <tr style=\"text-align: right;\">\n",
       "      <th></th>\n",
       "      <th>PCA1</th>\n",
       "      <th>PCA2</th>\n",
       "      <th>PCA3</th>\n",
       "      <th>PCA4</th>\n",
       "    </tr>\n",
       "  </thead>\n",
       "  <tbody>\n",
       "    <tr>\n",
       "      <th>0</th>\n",
       "      <td>-2.458256</td>\n",
       "      <td>-0.994968</td>\n",
       "      <td>0.436929</td>\n",
       "      <td>-0.502674</td>\n",
       "    </tr>\n",
       "    <tr>\n",
       "      <th>1</th>\n",
       "      <td>4.818935</td>\n",
       "      <td>-0.302426</td>\n",
       "      <td>1.558411</td>\n",
       "      <td>1.932650</td>\n",
       "    </tr>\n",
       "    <tr>\n",
       "      <th>2</th>\n",
       "      <td>-4.602104</td>\n",
       "      <td>-1.000385</td>\n",
       "      <td>-0.104457</td>\n",
       "      <td>0.029304</td>\n",
       "    </tr>\n",
       "    <tr>\n",
       "      <th>3</th>\n",
       "      <td>5.314198</td>\n",
       "      <td>-0.761926</td>\n",
       "      <td>0.816002</td>\n",
       "      <td>-1.735589</td>\n",
       "    </tr>\n",
       "    <tr>\n",
       "      <th>4</th>\n",
       "      <td>-2.668409</td>\n",
       "      <td>-1.113699</td>\n",
       "      <td>0.760994</td>\n",
       "      <td>-0.280562</td>\n",
       "    </tr>\n",
       "  </tbody>\n",
       "</table>\n",
       "</div>"
      ],
      "text/plain": [
       "       PCA1      PCA2      PCA3      PCA4\n",
       "0 -2.458256 -0.994968  0.436929 -0.502674\n",
       "1  4.818935 -0.302426  1.558411  1.932650\n",
       "2 -4.602104 -1.000385 -0.104457  0.029304\n",
       "3  5.314198 -0.761926  0.816002 -1.735589\n",
       "4 -2.668409 -1.113699  0.760994 -0.280562"
      ]
     },
     "execution_count": 30,
     "metadata": {},
     "output_type": "execute_result"
    }
   ],
   "source": [
    "# Create the PCA DataFrame\n",
    "X_test_data_pca_df = pd.DataFrame(\n",
    "    X_test_data_df,\n",
    "    columns=[\"PCA1\", \"PCA2\", \"PCA3\", \"PCA4\"]\n",
    ")\n",
    "\n",
    "# Review the PCA DataFrame\n",
    "X_test_data_pca_df.head()"
   ]
  },
  {
   "cell_type": "code",
   "execution_count": 39,
   "metadata": {},
   "outputs": [],
   "source": [
    "X_total_data_df= pca.transform(X)"
   ]
  },
  {
   "cell_type": "code",
   "execution_count": 40,
   "metadata": {},
   "outputs": [
    {
     "data": {
      "text/html": [
       "<div>\n",
       "<style scoped>\n",
       "    .dataframe tbody tr th:only-of-type {\n",
       "        vertical-align: middle;\n",
       "    }\n",
       "\n",
       "    .dataframe tbody tr th {\n",
       "        vertical-align: top;\n",
       "    }\n",
       "\n",
       "    .dataframe thead th {\n",
       "        text-align: right;\n",
       "    }\n",
       "</style>\n",
       "<table border=\"1\" class=\"dataframe\">\n",
       "  <thead>\n",
       "    <tr style=\"text-align: right;\">\n",
       "      <th></th>\n",
       "      <th>PCA1</th>\n",
       "      <th>PCA2</th>\n",
       "      <th>PCA3</th>\n",
       "      <th>PCA4</th>\n",
       "    </tr>\n",
       "  </thead>\n",
       "  <tbody>\n",
       "    <tr>\n",
       "      <th>0</th>\n",
       "      <td>-1.469718</td>\n",
       "      <td>-1.719682</td>\n",
       "      <td>0.058768</td>\n",
       "      <td>0.321032</td>\n",
       "    </tr>\n",
       "    <tr>\n",
       "      <th>1</th>\n",
       "      <td>-1.217904</td>\n",
       "      <td>-1.530652</td>\n",
       "      <td>0.251743</td>\n",
       "      <td>0.320117</td>\n",
       "    </tr>\n",
       "    <tr>\n",
       "      <th>2</th>\n",
       "      <td>-1.218587</td>\n",
       "      <td>-1.534422</td>\n",
       "      <td>0.217415</td>\n",
       "      <td>0.356950</td>\n",
       "    </tr>\n",
       "    <tr>\n",
       "      <th>3</th>\n",
       "      <td>-1.206909</td>\n",
       "      <td>-1.598214</td>\n",
       "      <td>0.142944</td>\n",
       "      <td>0.458333</td>\n",
       "    </tr>\n",
       "    <tr>\n",
       "      <th>4</th>\n",
       "      <td>-1.210071</td>\n",
       "      <td>-1.582433</td>\n",
       "      <td>0.155398</td>\n",
       "      <td>0.439404</td>\n",
       "    </tr>\n",
       "  </tbody>\n",
       "</table>\n",
       "</div>"
      ],
      "text/plain": [
       "       PCA1      PCA2      PCA3      PCA4\n",
       "0 -1.469718 -1.719682  0.058768  0.321032\n",
       "1 -1.217904 -1.530652  0.251743  0.320117\n",
       "2 -1.218587 -1.534422  0.217415  0.356950\n",
       "3 -1.206909 -1.598214  0.142944  0.458333\n",
       "4 -1.210071 -1.582433  0.155398  0.439404"
      ]
     },
     "execution_count": 40,
     "metadata": {},
     "output_type": "execute_result"
    }
   ],
   "source": [
    "X_test_total_pca_df = pd.DataFrame(\n",
    "    X_total_data_df,\n",
    "    columns=[\"PCA1\", \"PCA2\", \"PCA3\", \"PCA4\"]\n",
    ")\n",
    "\n",
    "# Review the PCA DataFrame\n",
    "X_test_total_pca_df.head()"
   ]
  },
  {
   "cell_type": "code",
   "execution_count": 31,
   "metadata": {},
   "outputs": [],
   "source": [
    "ridge_model = Ridge(alpha= 0.3)"
   ]
  },
  {
   "cell_type": "code",
   "execution_count": 32,
   "metadata": {},
   "outputs": [
    {
     "data": {
      "text/plain": [
       "Ridge(alpha=0.3)"
      ]
     },
     "execution_count": 32,
     "metadata": {},
     "output_type": "execute_result"
    }
   ],
   "source": [
    "ridge_model.fit(X_train_data_pca_df,y_train)"
   ]
  },
  {
   "cell_type": "code",
   "execution_count": 33,
   "metadata": {},
   "outputs": [],
   "source": [
    "pred_train_ridge = ridge_model.predict(X_train_data_pca_df)\n"
   ]
  },
  {
   "cell_type": "code",
   "execution_count": 34,
   "metadata": {},
   "outputs": [
    {
     "name": "stdout",
     "output_type": "stream",
     "text": [
      "0.8048994229949151\n"
     ]
    }
   ],
   "source": [
    "\n",
    "print(r2_score(y_train, pred_train_ridge))"
   ]
  },
  {
   "cell_type": "code",
   "execution_count": 37,
   "metadata": {},
   "outputs": [],
   "source": [
    "pred_test_ridge = ridge_model.predict(X_test_data_pca_df)"
   ]
  },
  {
   "cell_type": "code",
   "execution_count": 38,
   "metadata": {},
   "outputs": [
    {
     "name": "stdout",
     "output_type": "stream",
     "text": [
      "0.8165901869224804\n"
     ]
    }
   ],
   "source": [
    "print(r2_score(y_test, pred_test_ridge))"
   ]
  },
  {
   "cell_type": "code",
   "execution_count": 41,
   "metadata": {},
   "outputs": [],
   "source": [
    "Pred_total_data = ridge_model.predict(X_test_total_pca_df)"
   ]
  },
  {
   "cell_type": "code",
   "execution_count": 45,
   "metadata": {},
   "outputs": [
    {
     "data": {
      "text/plain": [
       "<AxesSubplot:>"
      ]
     },
     "execution_count": 45,
     "metadata": {},
     "output_type": "execute_result"
    },
    {
     "data": {
      "image/png": "[encoded data removed]",
      "text/plain": [
       "<Figure size 640x480 with 1 Axes>"
      ]
     },
     "metadata": {},
     "output_type": "display_data"
    }
   ],
   "source": [
    "Pred_total_data_df = pd.DataFrame(Pred_total_data)\n",
    "Pred_total_data_df.plot()"
   ]
  },
  {
   "cell_type": "code",
   "execution_count": 46,
   "metadata": {},
   "outputs": [],
   "source": [
    "df_plot_data =y.copy() "
   ]
  },
  {
   "cell_type": "code",
   "execution_count": 48,
   "metadata": {},
   "outputs": [
    {
     "data": {
      "text/html": [
       "<div>\n",
       "<style scoped>\n",
       "    .dataframe tbody tr th:only-of-type {\n",
       "        vertical-align: middle;\n",
       "    }\n",
       "\n",
       "    .dataframe tbody tr th {\n",
       "        vertical-align: top;\n",
       "    }\n",
       "\n",
       "    .dataframe thead th {\n",
       "        text-align: right;\n",
       "    }\n",
       "</style>\n",
       "<table border=\"1\" class=\"dataframe\">\n",
       "  <thead>\n",
       "    <tr style=\"text-align: right;\">\n",
       "      <th></th>\n",
       "      <th>Jets</th>\n",
       "      <th>pred</th>\n",
       "    </tr>\n",
       "    <tr>\n",
       "      <th>Date</th>\n",
       "      <th></th>\n",
       "      <th></th>\n",
       "    </tr>\n",
       "  </thead>\n",
       "  <tbody>\n",
       "    <tr>\n",
       "      <th>2018-01-19</th>\n",
       "      <td>1.598610</td>\n",
       "      <td>1.144038</td>\n",
       "    </tr>\n",
       "    <tr>\n",
       "      <th>2018-01-22</th>\n",
       "      <td>1.608980</td>\n",
       "      <td>1.004881</td>\n",
       "    </tr>\n",
       "    <tr>\n",
       "      <th>2018-01-23</th>\n",
       "      <td>1.643540</td>\n",
       "      <td>1.020653</td>\n",
       "    </tr>\n",
       "    <tr>\n",
       "      <th>2018-01-24</th>\n",
       "      <td>1.394699</td>\n",
       "      <td>1.084706</td>\n",
       "    </tr>\n",
       "    <tr>\n",
       "      <th>2018-01-25</th>\n",
       "      <td>1.263365</td>\n",
       "      <td>1.071251</td>\n",
       "    </tr>\n",
       "  </tbody>\n",
       "</table>\n",
       "</div>"
      ],
      "text/plain": [
       "                Jets      pred\n",
       "Date                          \n",
       "2018-01-19  1.598610  1.144038\n",
       "2018-01-22  1.608980  1.004881\n",
       "2018-01-23  1.643540  1.020653\n",
       "2018-01-24  1.394699  1.084706\n",
       "2018-01-25  1.263365  1.071251"
      ]
     },
     "execution_count": 48,
     "metadata": {},
     "output_type": "execute_result"
    }
   ],
   "source": [
    "df_plot_data[\"pred\"] = Pred_total_data\n",
    "df_plot_data.head()"
   ]
  },
  {
   "cell_type": "code",
   "execution_count": 49,
   "metadata": {},
   "outputs": [
    {
     "data": {
      "text/plain": [
       "<AxesSubplot:xlabel='Date'>"
      ]
     },
     "execution_count": 49,
     "metadata": {},
     "output_type": "execute_result"
    },
    {
     "data": {
      "image/png": "[encoded data removed]",
      "text/plain": [
       "<Figure size 640x480 with 1 Axes>"
      ]
     },
     "metadata": {},
     "output_type": "display_data"
    }
   ],
   "source": [
    "df_plot_data.plot()"
   ]
  },
  {
   "cell_type": "code",
   "execution_count": null,
   "metadata": {},
   "outputs": [],
   "source": []
  }
 ],
 "metadata": {
  "kernelspec": {
   "display_name": "dev2",
   "language": "python",
   "name": "python3"
  },
  "language_info": {
   "codemirror_mode": {
    "name": "ipython",
    "version": 3
   },
   "file_extension": ".py",
   "mimetype": "text/x-python",
   "name": "python",
   "nbconvert_exporter": "python",
   "pygments_lexer": "ipython3",
   "version": "3.7.13"
  },
  "orig_nbformat": 4,
  "vscode": {
   "interpreter": {
    "hash": "850e1b3f4705cd2b08db091e9e7e685ea18e6217621a969c2de23b7f90d84028"
   }
  }
 },
 "nbformat": 4,
 "nbformat_minor": 2
}
